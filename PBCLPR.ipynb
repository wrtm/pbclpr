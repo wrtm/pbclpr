{
 "cells": [
  {
   "cell_type": "code",
   "id": "initial_id",
   "metadata": {
    "collapsed": true,
    "ExecuteTime": {
     "end_time": "2024-06-22T11:55:48.129500Z",
     "start_time": "2024-06-22T11:55:43.559722Z"
    }
   },
   "source": [
    "import requests\n",
    "from bs4 import BeautifulSoup\n",
    "from datetime import datetime\n",
    "\n",
    "def get_news_content_by_date(target_date):\n",
    "    # 目标网页URL\n",
    "    url = \"http://www.pbc.gov.cn/zhengcehuobisi/125207/125213/125440/3876551/index.html\"\n",
    "\n",
    "    # 发送HTTP请求获取网页内容\n",
    "    response = requests.get(url)\n",
    "    response.encoding = 'utf-8'  # 设置编码以正确解析中文内容\n",
    "\n",
    "    # 使用BeautifulSoup解析网页内容\n",
    "    soup = BeautifulSoup(response.text, 'html.parser')\n",
    "\n",
    "    # 查找包含日期和内容的元素\n",
    "    news_items = soup.find_all('tr')  # 根据实际情况调整选择器\n",
    "\n",
    "    # 筛选出日期为目标日期的那条内容\n",
    "    for item in news_items:\n",
    "        date_span = item.find('span', class_='hui12')\n",
    "        content_link = item.find('font', class_='newslist_style').find('a') if item.find('font', class_='newslist_style') else None\n",
    "        \n",
    "        if date_span and content_link:\n",
    "            date_str = date_span.get_text(strip=True)\n",
    "            \n",
    "            # 检查日期是否匹配目标日期\n",
    "            if date_str == target_date:\n",
    "                content_text = content_link.get_text(strip=True)\n",
    "                content_url = content_link['href']\n",
    "                full_url = f\"http://www.pbc.gov.cn{content_url}\"\n",
    "                print(\"日期：\", date_str)\n",
    "                print(\"内容：\", content_text)\n",
    "                print(\"网址：\", full_url)\n",
    "                \n",
    "                # 发送HTTP请求获取新闻页面内容\n",
    "                news_response = requests.get(full_url)\n",
    "                news_response.encoding = 'utf-8'\n",
    "                news_soup = BeautifulSoup(news_response.text, 'html.parser')\n",
    "                \n",
    "                # 提取class='zoom1'的内容\n",
    "                zoom1_content = news_soup.find(class_='zoom1')\n",
    "                if zoom1_content:\n",
    "                    print(\"zoom1内容：\", zoom1_content.get_text(strip=True))\n",
    "                else:\n",
    "                    print(\"未找到class='zoom1'的内容\")\n",
    "                return True\n",
    "    return False\n",
    "\n",
    "# 获取当前年份和月份\n",
    "current_year = datetime.now().year\n",
    "current_month = datetime.now().month\n",
    "\n",
    "# 生成初始日期（20日）\n",
    "target_dates = [\n",
    "    f\"{current_year}-{current_month:02d}-20\",\n",
    "    f\"{current_year}-{current_month:02d}-21\",\n",
    "    f\"{current_year}-{current_month:02d}-22\"\n",
    "]\n",
    "\n",
    "# 尝试按顺序查找日期\n",
    "found = False\n",
    "for date in target_dates:\n",
    "    if get_news_content_by_date(date):\n",
    "        found = True\n",
    "        break\n",
    "\n",
    "# 如果没有找到，则提示用户输入日期\n",
    "if not found:\n",
    "    user_date = input(\"未找到相关日期内容，请输入目标日期（格式为YYYY-MM-DD）：\")\n",
    "    get_news_content_by_date(user_date)\n"
   ],
   "outputs": [
    {
     "name": "stdout",
     "output_type": "stream",
     "text": [
      "日期： 2024-06-20\n",
      "内容： 2024年6月20日全国银行间同业拆借中心受权公布贷款市场报价利率（LPR）公告\n",
      "网址： http://www.pbc.gov.cn/zhengcehuobisi/125207/125213/125440/3876551/5380534/index.html\n",
      "zoom1内容： 中国人民银行授权全国银行间同业拆借中心公布，2024年6月20日贷款市场报价利率（LPR）为：1年期LPR为3.45%，5年期以上LPR为3.95%。以上LPR在下一次发布LPR之前有效。\n"
     ]
    }
   ],
   "execution_count": 1
  },
  {
   "metadata": {},
   "cell_type": "code",
   "outputs": [],
   "execution_count": null,
   "source": "",
   "id": "7ea3de72803a3930"
  }
 ],
 "metadata": {
  "kernelspec": {
   "display_name": "Python 3",
   "language": "python",
   "name": "python3"
  },
  "language_info": {
   "codemirror_mode": {
    "name": "ipython",
    "version": 2
   },
   "file_extension": ".py",
   "mimetype": "text/x-python",
   "name": "python",
   "nbconvert_exporter": "python",
   "pygments_lexer": "ipython2",
   "version": "2.7.6"
  }
 },
 "nbformat": 4,
 "nbformat_minor": 5
}
